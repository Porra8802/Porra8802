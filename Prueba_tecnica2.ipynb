{
  "nbformat": 4,
  "nbformat_minor": 0,
  "metadata": {
    "colab": {
      "name": "Prueba_tecnica2.ipynb",
      "provenance": [],
      "collapsed_sections": [],
      "authorship_tag": "ABX9TyPCIkoNrPfsDUayp8NBuv9s",
      "include_colab_link": true
    },
    "kernelspec": {
      "name": "python3",
      "display_name": "Python 3"
    },
    "language_info": {
      "name": "python"
    }
  },
  "cells": [
    {
      "cell_type": "markdown",
      "metadata": {
        "id": "view-in-github",
        "colab_type": "text"
      },
      "source": [
        "<a href=\"https://colab.research.google.com/github/Porra8802/Porra8802/blob/main/Prueba_tecnica2.ipynb\" target=\"_parent\"><img src=\"https://colab.research.google.com/assets/colab-badge.svg\" alt=\"Open In Colab\"/></a>"
      ]
    },
    {
      "cell_type": "markdown",
      "source": [
        "##Importación de librerias necesarias"
      ],
      "metadata": {
        "id": "roaqv7rgoVRz"
      }
    },
    {
      "cell_type": "code",
      "execution_count": 5,
      "metadata": {
        "id": "irYXX91zRM0l"
      },
      "outputs": [],
      "source": [
        "import pandas as pd\n",
        "import requests\n",
        "from pandas import json_normalize"
      ]
    },
    {
      "cell_type": "markdown",
      "source": [
        "##Obtención de columna región"
      ],
      "metadata": {
        "id": "iLopkRSpoZ9k"
      }
    },
    {
      "cell_type": "code",
      "source": [
        "url_region='https://restcountries.com/v3.1/all'\n",
        "response_region=requests.get(url_region)\n",
        "data_region=response_region.json()"
      ],
      "metadata": {
        "id": "sITHePbtROp6"
      },
      "execution_count": 6,
      "outputs": []
    },
    {
      "cell_type": "code",
      "source": [
        "df_region=pd.DataFrame(data_region)\n",
        "df_region=json_normalize(data_region)\n",
        "df_region.head()"
      ],
      "metadata": {
        "colab": {
          "base_uri": "https://localhost:8080/",
          "height": 577
        },
        "id": "PjGsTm_6RY9M",
        "outputId": "a7e707e5-95cc-4d60-a806-d3176f421389"
      },
      "execution_count": 7,
      "outputs": [
        {
          "output_type": "execute_result",
          "data": {
            "text/plain": [
              "     tld cca2 ccn3 cca3 cioc independent               status  unMember  \\\n",
              "0  [.fi]   FI  246  FIN  FIN        True  officially-assigned      True   \n",
              "1  [.gt]   GT  320  GTM  GUA        True  officially-assigned      True   \n",
              "2  [.cl]   CL  152  CHL  CHI        True  officially-assigned      True   \n",
              "3  [.uy]   UY  858  URY  URU        True  officially-assigned      True   \n",
              "4  [.kg]   KG  417  KGZ  KGZ        True  officially-assigned      True   \n",
              "\n",
              "            capital                                       altSpellings  ...  \\\n",
              "0        [Helsinki]  [FI, Suomi, Republic of Finland, Suomen tasava...  ...   \n",
              "1  [Guatemala City]                                               [GT]  ...   \n",
              "2        [Santiago]        [CL, Republic of Chile, República de Chile]  ...   \n",
              "3      [Montevideo]  [UY, Oriental Republic of Uruguay, República O...  ...   \n",
              "4         [Bishkek]  [KG, Киргизия, Kyrgyz Republic, Кыргыз Республ...  ...   \n",
              "\n",
              "  languages.pol currencies.MZN.name currencies.MZN.symbol  \\\n",
              "0           NaN                 NaN                   NaN   \n",
              "1           NaN                 NaN                   NaN   \n",
              "2           NaN                 NaN                   NaN   \n",
              "3           NaN                 NaN                   NaN   \n",
              "4           NaN                 NaN                   NaN   \n",
              "\n",
              "   currencies.BMD.name currencies.BMD.symbol  currencies.RUB.name  \\\n",
              "0                  NaN                   NaN                  NaN   \n",
              "1                  NaN                   NaN                  NaN   \n",
              "2                  NaN                   NaN                  NaN   \n",
              "3                  NaN                   NaN                  NaN   \n",
              "4                  NaN                   NaN                  NaN   \n",
              "\n",
              "  currencies.RUB.symbol  name.nativeName.kal.official  \\\n",
              "0                   NaN                           NaN   \n",
              "1                   NaN                           NaN   \n",
              "2                   NaN                           NaN   \n",
              "3                   NaN                           NaN   \n",
              "4                   NaN                           NaN   \n",
              "\n",
              "  name.nativeName.kal.common languages.kal  \n",
              "0                        NaN           NaN  \n",
              "1                        NaN           NaN  \n",
              "2                        NaN           NaN  \n",
              "3                        NaN           NaN  \n",
              "4                        NaN           NaN  \n",
              "\n",
              "[5 rows x 889 columns]"
            ],
            "text/html": [
              "\n",
              "  <div id=\"df-7df09764-14e8-4ddb-ac51-d83d55448cea\">\n",
              "    <div class=\"colab-df-container\">\n",
              "      <div>\n",
              "<style scoped>\n",
              "    .dataframe tbody tr th:only-of-type {\n",
              "        vertical-align: middle;\n",
              "    }\n",
              "\n",
              "    .dataframe tbody tr th {\n",
              "        vertical-align: top;\n",
              "    }\n",
              "\n",
              "    .dataframe thead th {\n",
              "        text-align: right;\n",
              "    }\n",
              "</style>\n",
              "<table border=\"1\" class=\"dataframe\">\n",
              "  <thead>\n",
              "    <tr style=\"text-align: right;\">\n",
              "      <th></th>\n",
              "      <th>tld</th>\n",
              "      <th>cca2</th>\n",
              "      <th>ccn3</th>\n",
              "      <th>cca3</th>\n",
              "      <th>cioc</th>\n",
              "      <th>independent</th>\n",
              "      <th>status</th>\n",
              "      <th>unMember</th>\n",
              "      <th>capital</th>\n",
              "      <th>altSpellings</th>\n",
              "      <th>...</th>\n",
              "      <th>languages.pol</th>\n",
              "      <th>currencies.MZN.name</th>\n",
              "      <th>currencies.MZN.symbol</th>\n",
              "      <th>currencies.BMD.name</th>\n",
              "      <th>currencies.BMD.symbol</th>\n",
              "      <th>currencies.RUB.name</th>\n",
              "      <th>currencies.RUB.symbol</th>\n",
              "      <th>name.nativeName.kal.official</th>\n",
              "      <th>name.nativeName.kal.common</th>\n",
              "      <th>languages.kal</th>\n",
              "    </tr>\n",
              "  </thead>\n",
              "  <tbody>\n",
              "    <tr>\n",
              "      <th>0</th>\n",
              "      <td>[.fi]</td>\n",
              "      <td>FI</td>\n",
              "      <td>246</td>\n",
              "      <td>FIN</td>\n",
              "      <td>FIN</td>\n",
              "      <td>True</td>\n",
              "      <td>officially-assigned</td>\n",
              "      <td>True</td>\n",
              "      <td>[Helsinki]</td>\n",
              "      <td>[FI, Suomi, Republic of Finland, Suomen tasava...</td>\n",
              "      <td>...</td>\n",
              "      <td>NaN</td>\n",
              "      <td>NaN</td>\n",
              "      <td>NaN</td>\n",
              "      <td>NaN</td>\n",
              "      <td>NaN</td>\n",
              "      <td>NaN</td>\n",
              "      <td>NaN</td>\n",
              "      <td>NaN</td>\n",
              "      <td>NaN</td>\n",
              "      <td>NaN</td>\n",
              "    </tr>\n",
              "    <tr>\n",
              "      <th>1</th>\n",
              "      <td>[.gt]</td>\n",
              "      <td>GT</td>\n",
              "      <td>320</td>\n",
              "      <td>GTM</td>\n",
              "      <td>GUA</td>\n",
              "      <td>True</td>\n",
              "      <td>officially-assigned</td>\n",
              "      <td>True</td>\n",
              "      <td>[Guatemala City]</td>\n",
              "      <td>[GT]</td>\n",
              "      <td>...</td>\n",
              "      <td>NaN</td>\n",
              "      <td>NaN</td>\n",
              "      <td>NaN</td>\n",
              "      <td>NaN</td>\n",
              "      <td>NaN</td>\n",
              "      <td>NaN</td>\n",
              "      <td>NaN</td>\n",
              "      <td>NaN</td>\n",
              "      <td>NaN</td>\n",
              "      <td>NaN</td>\n",
              "    </tr>\n",
              "    <tr>\n",
              "      <th>2</th>\n",
              "      <td>[.cl]</td>\n",
              "      <td>CL</td>\n",
              "      <td>152</td>\n",
              "      <td>CHL</td>\n",
              "      <td>CHI</td>\n",
              "      <td>True</td>\n",
              "      <td>officially-assigned</td>\n",
              "      <td>True</td>\n",
              "      <td>[Santiago]</td>\n",
              "      <td>[CL, Republic of Chile, República de Chile]</td>\n",
              "      <td>...</td>\n",
              "      <td>NaN</td>\n",
              "      <td>NaN</td>\n",
              "      <td>NaN</td>\n",
              "      <td>NaN</td>\n",
              "      <td>NaN</td>\n",
              "      <td>NaN</td>\n",
              "      <td>NaN</td>\n",
              "      <td>NaN</td>\n",
              "      <td>NaN</td>\n",
              "      <td>NaN</td>\n",
              "    </tr>\n",
              "    <tr>\n",
              "      <th>3</th>\n",
              "      <td>[.uy]</td>\n",
              "      <td>UY</td>\n",
              "      <td>858</td>\n",
              "      <td>URY</td>\n",
              "      <td>URU</td>\n",
              "      <td>True</td>\n",
              "      <td>officially-assigned</td>\n",
              "      <td>True</td>\n",
              "      <td>[Montevideo]</td>\n",
              "      <td>[UY, Oriental Republic of Uruguay, República O...</td>\n",
              "      <td>...</td>\n",
              "      <td>NaN</td>\n",
              "      <td>NaN</td>\n",
              "      <td>NaN</td>\n",
              "      <td>NaN</td>\n",
              "      <td>NaN</td>\n",
              "      <td>NaN</td>\n",
              "      <td>NaN</td>\n",
              "      <td>NaN</td>\n",
              "      <td>NaN</td>\n",
              "      <td>NaN</td>\n",
              "    </tr>\n",
              "    <tr>\n",
              "      <th>4</th>\n",
              "      <td>[.kg]</td>\n",
              "      <td>KG</td>\n",
              "      <td>417</td>\n",
              "      <td>KGZ</td>\n",
              "      <td>KGZ</td>\n",
              "      <td>True</td>\n",
              "      <td>officially-assigned</td>\n",
              "      <td>True</td>\n",
              "      <td>[Bishkek]</td>\n",
              "      <td>[KG, Киргизия, Kyrgyz Republic, Кыргыз Республ...</td>\n",
              "      <td>...</td>\n",
              "      <td>NaN</td>\n",
              "      <td>NaN</td>\n",
              "      <td>NaN</td>\n",
              "      <td>NaN</td>\n",
              "      <td>NaN</td>\n",
              "      <td>NaN</td>\n",
              "      <td>NaN</td>\n",
              "      <td>NaN</td>\n",
              "      <td>NaN</td>\n",
              "      <td>NaN</td>\n",
              "    </tr>\n",
              "  </tbody>\n",
              "</table>\n",
              "<p>5 rows × 889 columns</p>\n",
              "</div>\n",
              "      <button class=\"colab-df-convert\" onclick=\"convertToInteractive('df-7df09764-14e8-4ddb-ac51-d83d55448cea')\"\n",
              "              title=\"Convert this dataframe to an interactive table.\"\n",
              "              style=\"display:none;\">\n",
              "        \n",
              "  <svg xmlns=\"http://www.w3.org/2000/svg\" height=\"24px\"viewBox=\"0 0 24 24\"\n",
              "       width=\"24px\">\n",
              "    <path d=\"M0 0h24v24H0V0z\" fill=\"none\"/>\n",
              "    <path d=\"M18.56 5.44l.94 2.06.94-2.06 2.06-.94-2.06-.94-.94-2.06-.94 2.06-2.06.94zm-11 1L8.5 8.5l.94-2.06 2.06-.94-2.06-.94L8.5 2.5l-.94 2.06-2.06.94zm10 10l.94 2.06.94-2.06 2.06-.94-2.06-.94-.94-2.06-.94 2.06-2.06.94z\"/><path d=\"M17.41 7.96l-1.37-1.37c-.4-.4-.92-.59-1.43-.59-.52 0-1.04.2-1.43.59L10.3 9.45l-7.72 7.72c-.78.78-.78 2.05 0 2.83L4 21.41c.39.39.9.59 1.41.59.51 0 1.02-.2 1.41-.59l7.78-7.78 2.81-2.81c.8-.78.8-2.07 0-2.86zM5.41 20L4 18.59l7.72-7.72 1.47 1.35L5.41 20z\"/>\n",
              "  </svg>\n",
              "      </button>\n",
              "      \n",
              "  <style>\n",
              "    .colab-df-container {\n",
              "      display:flex;\n",
              "      flex-wrap:wrap;\n",
              "      gap: 12px;\n",
              "    }\n",
              "\n",
              "    .colab-df-convert {\n",
              "      background-color: #E8F0FE;\n",
              "      border: none;\n",
              "      border-radius: 50%;\n",
              "      cursor: pointer;\n",
              "      display: none;\n",
              "      fill: #1967D2;\n",
              "      height: 32px;\n",
              "      padding: 0 0 0 0;\n",
              "      width: 32px;\n",
              "    }\n",
              "\n",
              "    .colab-df-convert:hover {\n",
              "      background-color: #E2EBFA;\n",
              "      box-shadow: 0px 1px 2px rgba(60, 64, 67, 0.3), 0px 1px 3px 1px rgba(60, 64, 67, 0.15);\n",
              "      fill: #174EA6;\n",
              "    }\n",
              "\n",
              "    [theme=dark] .colab-df-convert {\n",
              "      background-color: #3B4455;\n",
              "      fill: #D2E3FC;\n",
              "    }\n",
              "\n",
              "    [theme=dark] .colab-df-convert:hover {\n",
              "      background-color: #434B5C;\n",
              "      box-shadow: 0px 1px 3px 1px rgba(0, 0, 0, 0.15);\n",
              "      filter: drop-shadow(0px 1px 2px rgba(0, 0, 0, 0.3));\n",
              "      fill: #FFFFFF;\n",
              "    }\n",
              "  </style>\n",
              "\n",
              "      <script>\n",
              "        const buttonEl =\n",
              "          document.querySelector('#df-7df09764-14e8-4ddb-ac51-d83d55448cea button.colab-df-convert');\n",
              "        buttonEl.style.display =\n",
              "          google.colab.kernel.accessAllowed ? 'block' : 'none';\n",
              "\n",
              "        async function convertToInteractive(key) {\n",
              "          const element = document.querySelector('#df-7df09764-14e8-4ddb-ac51-d83d55448cea');\n",
              "          const dataTable =\n",
              "            await google.colab.kernel.invokeFunction('convertToInteractive',\n",
              "                                                     [key], {});\n",
              "          if (!dataTable) return;\n",
              "\n",
              "          const docLinkHtml = 'Like what you see? Visit the ' +\n",
              "            '<a target=\"_blank\" href=https://colab.research.google.com/notebooks/data_table.ipynb>data table notebook</a>'\n",
              "            + ' to learn more about interactive tables.';\n",
              "          element.innerHTML = '';\n",
              "          dataTable['output_type'] = 'display_data';\n",
              "          await google.colab.output.renderOutput(dataTable, element);\n",
              "          const docLink = document.createElement('div');\n",
              "          docLink.innerHTML = docLinkHtml;\n",
              "          element.appendChild(docLink);\n",
              "        }\n",
              "      </script>\n",
              "    </div>\n",
              "  </div>\n",
              "  "
            ]
          },
          "metadata": {},
          "execution_count": 7
        }
      ]
    },
    {
      "cell_type": "markdown",
      "source": [
        "##DataFrame columna Región"
      ],
      "metadata": {
        "id": "z2M9qIrcoftA"
      }
    },
    {
      "cell_type": "code",
      "source": [
        "region_name=df_region.iloc[:,10:11]\n",
        "region_name.columns=['Región']\n",
        "region_name.head()"
      ],
      "metadata": {
        "colab": {
          "base_uri": "https://localhost:8080/",
          "height": 206
        },
        "id": "MrXDMVjMRxye",
        "outputId": "cd14f2aa-3d2e-49db-ed0d-720288680d7b"
      },
      "execution_count": 8,
      "outputs": [
        {
          "output_type": "execute_result",
          "data": {
            "text/plain": [
              "     Región\n",
              "0    Europe\n",
              "1  Americas\n",
              "2  Americas\n",
              "3  Americas\n",
              "4      Asia"
            ],
            "text/html": [
              "\n",
              "  <div id=\"df-3f0ee2d7-a408-48d8-88c4-04f94699802c\">\n",
              "    <div class=\"colab-df-container\">\n",
              "      <div>\n",
              "<style scoped>\n",
              "    .dataframe tbody tr th:only-of-type {\n",
              "        vertical-align: middle;\n",
              "    }\n",
              "\n",
              "    .dataframe tbody tr th {\n",
              "        vertical-align: top;\n",
              "    }\n",
              "\n",
              "    .dataframe thead th {\n",
              "        text-align: right;\n",
              "    }\n",
              "</style>\n",
              "<table border=\"1\" class=\"dataframe\">\n",
              "  <thead>\n",
              "    <tr style=\"text-align: right;\">\n",
              "      <th></th>\n",
              "      <th>Región</th>\n",
              "    </tr>\n",
              "  </thead>\n",
              "  <tbody>\n",
              "    <tr>\n",
              "      <th>0</th>\n",
              "      <td>Europe</td>\n",
              "    </tr>\n",
              "    <tr>\n",
              "      <th>1</th>\n",
              "      <td>Americas</td>\n",
              "    </tr>\n",
              "    <tr>\n",
              "      <th>2</th>\n",
              "      <td>Americas</td>\n",
              "    </tr>\n",
              "    <tr>\n",
              "      <th>3</th>\n",
              "      <td>Americas</td>\n",
              "    </tr>\n",
              "    <tr>\n",
              "      <th>4</th>\n",
              "      <td>Asia</td>\n",
              "    </tr>\n",
              "  </tbody>\n",
              "</table>\n",
              "</div>\n",
              "      <button class=\"colab-df-convert\" onclick=\"convertToInteractive('df-3f0ee2d7-a408-48d8-88c4-04f94699802c')\"\n",
              "              title=\"Convert this dataframe to an interactive table.\"\n",
              "              style=\"display:none;\">\n",
              "        \n",
              "  <svg xmlns=\"http://www.w3.org/2000/svg\" height=\"24px\"viewBox=\"0 0 24 24\"\n",
              "       width=\"24px\">\n",
              "    <path d=\"M0 0h24v24H0V0z\" fill=\"none\"/>\n",
              "    <path d=\"M18.56 5.44l.94 2.06.94-2.06 2.06-.94-2.06-.94-.94-2.06-.94 2.06-2.06.94zm-11 1L8.5 8.5l.94-2.06 2.06-.94-2.06-.94L8.5 2.5l-.94 2.06-2.06.94zm10 10l.94 2.06.94-2.06 2.06-.94-2.06-.94-.94-2.06-.94 2.06-2.06.94z\"/><path d=\"M17.41 7.96l-1.37-1.37c-.4-.4-.92-.59-1.43-.59-.52 0-1.04.2-1.43.59L10.3 9.45l-7.72 7.72c-.78.78-.78 2.05 0 2.83L4 21.41c.39.39.9.59 1.41.59.51 0 1.02-.2 1.41-.59l7.78-7.78 2.81-2.81c.8-.78.8-2.07 0-2.86zM5.41 20L4 18.59l7.72-7.72 1.47 1.35L5.41 20z\"/>\n",
              "  </svg>\n",
              "      </button>\n",
              "      \n",
              "  <style>\n",
              "    .colab-df-container {\n",
              "      display:flex;\n",
              "      flex-wrap:wrap;\n",
              "      gap: 12px;\n",
              "    }\n",
              "\n",
              "    .colab-df-convert {\n",
              "      background-color: #E8F0FE;\n",
              "      border: none;\n",
              "      border-radius: 50%;\n",
              "      cursor: pointer;\n",
              "      display: none;\n",
              "      fill: #1967D2;\n",
              "      height: 32px;\n",
              "      padding: 0 0 0 0;\n",
              "      width: 32px;\n",
              "    }\n",
              "\n",
              "    .colab-df-convert:hover {\n",
              "      background-color: #E2EBFA;\n",
              "      box-shadow: 0px 1px 2px rgba(60, 64, 67, 0.3), 0px 1px 3px 1px rgba(60, 64, 67, 0.15);\n",
              "      fill: #174EA6;\n",
              "    }\n",
              "\n",
              "    [theme=dark] .colab-df-convert {\n",
              "      background-color: #3B4455;\n",
              "      fill: #D2E3FC;\n",
              "    }\n",
              "\n",
              "    [theme=dark] .colab-df-convert:hover {\n",
              "      background-color: #434B5C;\n",
              "      box-shadow: 0px 1px 3px 1px rgba(0, 0, 0, 0.15);\n",
              "      filter: drop-shadow(0px 1px 2px rgba(0, 0, 0, 0.3));\n",
              "      fill: #FFFFFF;\n",
              "    }\n",
              "  </style>\n",
              "\n",
              "      <script>\n",
              "        const buttonEl =\n",
              "          document.querySelector('#df-3f0ee2d7-a408-48d8-88c4-04f94699802c button.colab-df-convert');\n",
              "        buttonEl.style.display =\n",
              "          google.colab.kernel.accessAllowed ? 'block' : 'none';\n",
              "\n",
              "        async function convertToInteractive(key) {\n",
              "          const element = document.querySelector('#df-3f0ee2d7-a408-48d8-88c4-04f94699802c');\n",
              "          const dataTable =\n",
              "            await google.colab.kernel.invokeFunction('convertToInteractive',\n",
              "                                                     [key], {});\n",
              "          if (!dataTable) return;\n",
              "\n",
              "          const docLinkHtml = 'Like what you see? Visit the ' +\n",
              "            '<a target=\"_blank\" href=https://colab.research.google.com/notebooks/data_table.ipynb>data table notebook</a>'\n",
              "            + ' to learn more about interactive tables.';\n",
              "          element.innerHTML = '';\n",
              "          dataTable['output_type'] = 'display_data';\n",
              "          await google.colab.output.renderOutput(dataTable, element);\n",
              "          const docLink = document.createElement('div');\n",
              "          docLink.innerHTML = docLinkHtml;\n",
              "          element.appendChild(docLink);\n",
              "        }\n",
              "      </script>\n",
              "    </div>\n",
              "  </div>\n",
              "  "
            ]
          },
          "metadata": {},
          "execution_count": 8
        }
      ]
    },
    {
      "cell_type": "markdown",
      "source": [
        "##Obtención de columna City Name"
      ],
      "metadata": {
        "id": "SjL_HPhKol9J"
      }
    },
    {
      "cell_type": "code",
      "source": [
        "url_country='https://restcountries.com/v2/all?fields=name,capital,currencies'\n",
        "response_country=requests.get(url_country)\n",
        "data_country=response_country.json()"
      ],
      "metadata": {
        "id": "6mOOMvU8SQfd"
      },
      "execution_count": 9,
      "outputs": []
    },
    {
      "cell_type": "code",
      "source": [
        "df_country=pd.DataFrame(data_country)\n",
        "df_country=json_normalize(data_country)\n",
        "df_country.columns"
      ],
      "metadata": {
        "colab": {
          "base_uri": "https://localhost:8080/"
        },
        "id": "QMAr2CyWSFhS",
        "outputId": "7dc4bbad-a834-4eaa-c699-aa5029a2c5bd"
      },
      "execution_count": 10,
      "outputs": [
        {
          "output_type": "execute_result",
          "data": {
            "text/plain": [
              "Index(['name', 'capital', 'currencies', 'independent'], dtype='object')"
            ]
          },
          "metadata": {},
          "execution_count": 10
        }
      ]
    },
    {
      "cell_type": "markdown",
      "source": [
        "##DataFrame columna City Name"
      ],
      "metadata": {
        "id": "3k3W-2mQorXO"
      }
    },
    {
      "cell_type": "code",
      "source": [
        "city_name=df_country.iloc[:,:1]\n",
        "city_name.columns=['City Name']\n",
        "city_name.head()"
      ],
      "metadata": {
        "colab": {
          "base_uri": "https://localhost:8080/",
          "height": 206
        },
        "id": "kJxls8_DR3Ud",
        "outputId": "f75620a4-b11f-4626-8e3c-89b17cf827d6"
      },
      "execution_count": 11,
      "outputs": [
        {
          "output_type": "execute_result",
          "data": {
            "text/plain": [
              "        City Name\n",
              "0     Afghanistan\n",
              "1   Åland Islands\n",
              "2         Albania\n",
              "3         Algeria\n",
              "4  American Samoa"
            ],
            "text/html": [
              "\n",
              "  <div id=\"df-a1d711b1-e3e3-417a-b228-cb5a9554117b\">\n",
              "    <div class=\"colab-df-container\">\n",
              "      <div>\n",
              "<style scoped>\n",
              "    .dataframe tbody tr th:only-of-type {\n",
              "        vertical-align: middle;\n",
              "    }\n",
              "\n",
              "    .dataframe tbody tr th {\n",
              "        vertical-align: top;\n",
              "    }\n",
              "\n",
              "    .dataframe thead th {\n",
              "        text-align: right;\n",
              "    }\n",
              "</style>\n",
              "<table border=\"1\" class=\"dataframe\">\n",
              "  <thead>\n",
              "    <tr style=\"text-align: right;\">\n",
              "      <th></th>\n",
              "      <th>City Name</th>\n",
              "    </tr>\n",
              "  </thead>\n",
              "  <tbody>\n",
              "    <tr>\n",
              "      <th>0</th>\n",
              "      <td>Afghanistan</td>\n",
              "    </tr>\n",
              "    <tr>\n",
              "      <th>1</th>\n",
              "      <td>Åland Islands</td>\n",
              "    </tr>\n",
              "    <tr>\n",
              "      <th>2</th>\n",
              "      <td>Albania</td>\n",
              "    </tr>\n",
              "    <tr>\n",
              "      <th>3</th>\n",
              "      <td>Algeria</td>\n",
              "    </tr>\n",
              "    <tr>\n",
              "      <th>4</th>\n",
              "      <td>American Samoa</td>\n",
              "    </tr>\n",
              "  </tbody>\n",
              "</table>\n",
              "</div>\n",
              "      <button class=\"colab-df-convert\" onclick=\"convertToInteractive('df-a1d711b1-e3e3-417a-b228-cb5a9554117b')\"\n",
              "              title=\"Convert this dataframe to an interactive table.\"\n",
              "              style=\"display:none;\">\n",
              "        \n",
              "  <svg xmlns=\"http://www.w3.org/2000/svg\" height=\"24px\"viewBox=\"0 0 24 24\"\n",
              "       width=\"24px\">\n",
              "    <path d=\"M0 0h24v24H0V0z\" fill=\"none\"/>\n",
              "    <path d=\"M18.56 5.44l.94 2.06.94-2.06 2.06-.94-2.06-.94-.94-2.06-.94 2.06-2.06.94zm-11 1L8.5 8.5l.94-2.06 2.06-.94-2.06-.94L8.5 2.5l-.94 2.06-2.06.94zm10 10l.94 2.06.94-2.06 2.06-.94-2.06-.94-.94-2.06-.94 2.06-2.06.94z\"/><path d=\"M17.41 7.96l-1.37-1.37c-.4-.4-.92-.59-1.43-.59-.52 0-1.04.2-1.43.59L10.3 9.45l-7.72 7.72c-.78.78-.78 2.05 0 2.83L4 21.41c.39.39.9.59 1.41.59.51 0 1.02-.2 1.41-.59l7.78-7.78 2.81-2.81c.8-.78.8-2.07 0-2.86zM5.41 20L4 18.59l7.72-7.72 1.47 1.35L5.41 20z\"/>\n",
              "  </svg>\n",
              "      </button>\n",
              "      \n",
              "  <style>\n",
              "    .colab-df-container {\n",
              "      display:flex;\n",
              "      flex-wrap:wrap;\n",
              "      gap: 12px;\n",
              "    }\n",
              "\n",
              "    .colab-df-convert {\n",
              "      background-color: #E8F0FE;\n",
              "      border: none;\n",
              "      border-radius: 50%;\n",
              "      cursor: pointer;\n",
              "      display: none;\n",
              "      fill: #1967D2;\n",
              "      height: 32px;\n",
              "      padding: 0 0 0 0;\n",
              "      width: 32px;\n",
              "    }\n",
              "\n",
              "    .colab-df-convert:hover {\n",
              "      background-color: #E2EBFA;\n",
              "      box-shadow: 0px 1px 2px rgba(60, 64, 67, 0.3), 0px 1px 3px 1px rgba(60, 64, 67, 0.15);\n",
              "      fill: #174EA6;\n",
              "    }\n",
              "\n",
              "    [theme=dark] .colab-df-convert {\n",
              "      background-color: #3B4455;\n",
              "      fill: #D2E3FC;\n",
              "    }\n",
              "\n",
              "    [theme=dark] .colab-df-convert:hover {\n",
              "      background-color: #434B5C;\n",
              "      box-shadow: 0px 1px 3px 1px rgba(0, 0, 0, 0.15);\n",
              "      filter: drop-shadow(0px 1px 2px rgba(0, 0, 0, 0.3));\n",
              "      fill: #FFFFFF;\n",
              "    }\n",
              "  </style>\n",
              "\n",
              "      <script>\n",
              "        const buttonEl =\n",
              "          document.querySelector('#df-a1d711b1-e3e3-417a-b228-cb5a9554117b button.colab-df-convert');\n",
              "        buttonEl.style.display =\n",
              "          google.colab.kernel.accessAllowed ? 'block' : 'none';\n",
              "\n",
              "        async function convertToInteractive(key) {\n",
              "          const element = document.querySelector('#df-a1d711b1-e3e3-417a-b228-cb5a9554117b');\n",
              "          const dataTable =\n",
              "            await google.colab.kernel.invokeFunction('convertToInteractive',\n",
              "                                                     [key], {});\n",
              "          if (!dataTable) return;\n",
              "\n",
              "          const docLinkHtml = 'Like what you see? Visit the ' +\n",
              "            '<a target=\"_blank\" href=https://colab.research.google.com/notebooks/data_table.ipynb>data table notebook</a>'\n",
              "            + ' to learn more about interactive tables.';\n",
              "          element.innerHTML = '';\n",
              "          dataTable['output_type'] = 'display_data';\n",
              "          await google.colab.output.renderOutput(dataTable, element);\n",
              "          const docLink = document.createElement('div');\n",
              "          docLink.innerHTML = docLinkHtml;\n",
              "          element.appendChild(docLink);\n",
              "        }\n",
              "      </script>\n",
              "    </div>\n",
              "  </div>\n",
              "  "
            ]
          },
          "metadata": {},
          "execution_count": 11
        }
      ]
    },
    {
      "cell_type": "markdown",
      "source": [
        "#Obtención de columna Languages"
      ],
      "metadata": {
        "id": "Lx3Shix4ovz6"
      }
    },
    {
      "cell_type": "code",
      "source": [
        "url_languages='https://restcountries.com/v3.1/lang/spa'\n",
        "response_languages=requests.get(url_languages)\n",
        "data_languages=response_languages.json()"
      ],
      "metadata": {
        "id": "6DdKtPrwRjyx"
      },
      "execution_count": 12,
      "outputs": []
    },
    {
      "cell_type": "code",
      "source": [
        "df_languages=pd.DataFrame(data_languages)\n",
        "df_languages=json_normalize(data_languages)\n",
        "df_languages.columns"
      ],
      "metadata": {
        "colab": {
          "base_uri": "https://localhost:8080/"
        },
        "id": "J2fgjot6VPO0",
        "outputId": "becc42c1-a65a-4795-bc87-63555b3fed83"
      },
      "execution_count": 13,
      "outputs": [
        {
          "output_type": "execute_result",
          "data": {
            "text/plain": [
              "Index(['tld', 'cca2', 'ccn3', 'cca3', 'cioc', 'independent', 'status',\n",
              "       'unMember', 'capital', 'altSpellings',\n",
              "       ...\n",
              "       'languages.bjz', 'gini.1999', 'name.nativeName.cha.official',\n",
              "       'name.nativeName.cha.common', 'languages.cha', 'currencies.VES.name',\n",
              "       'currencies.VES.symbol', 'gini.2006', 'currencies.PEN.name',\n",
              "       'currencies.PEN.symbol'],\n",
              "      dtype='object', length=174)"
            ]
          },
          "metadata": {},
          "execution_count": 13
        }
      ]
    },
    {
      "cell_type": "markdown",
      "source": [
        "##DataFrame columna Languages"
      ],
      "metadata": {
        "id": "6gqLq_AGo0qk"
      }
    },
    {
      "cell_type": "code",
      "source": [
        "language=df_languages.iloc[:,30:31]\n",
        "language.columns=['Language']\n",
        "language.head()\n",
        "\n"
      ],
      "metadata": {
        "colab": {
          "base_uri": "https://localhost:8080/",
          "height": 206
        },
        "id": "bLC7KuJdVauO",
        "outputId": "7fc7a6b4-cd32-497e-ed45-93ffe575726e"
      },
      "execution_count": 42,
      "outputs": [
        {
          "output_type": "execute_result",
          "data": {
            "text/plain": [
              "  Language\n",
              "0  Spanish\n",
              "1  Spanish\n",
              "2  Spanish\n",
              "3  Spanish\n",
              "4  Spanish"
            ],
            "text/html": [
              "\n",
              "  <div id=\"df-dec9f07c-c93a-4521-bdd1-41436ba7ad74\">\n",
              "    <div class=\"colab-df-container\">\n",
              "      <div>\n",
              "<style scoped>\n",
              "    .dataframe tbody tr th:only-of-type {\n",
              "        vertical-align: middle;\n",
              "    }\n",
              "\n",
              "    .dataframe tbody tr th {\n",
              "        vertical-align: top;\n",
              "    }\n",
              "\n",
              "    .dataframe thead th {\n",
              "        text-align: right;\n",
              "    }\n",
              "</style>\n",
              "<table border=\"1\" class=\"dataframe\">\n",
              "  <thead>\n",
              "    <tr style=\"text-align: right;\">\n",
              "      <th></th>\n",
              "      <th>Language</th>\n",
              "    </tr>\n",
              "  </thead>\n",
              "  <tbody>\n",
              "    <tr>\n",
              "      <th>0</th>\n",
              "      <td>Spanish</td>\n",
              "    </tr>\n",
              "    <tr>\n",
              "      <th>1</th>\n",
              "      <td>Spanish</td>\n",
              "    </tr>\n",
              "    <tr>\n",
              "      <th>2</th>\n",
              "      <td>Spanish</td>\n",
              "    </tr>\n",
              "    <tr>\n",
              "      <th>3</th>\n",
              "      <td>Spanish</td>\n",
              "    </tr>\n",
              "    <tr>\n",
              "      <th>4</th>\n",
              "      <td>Spanish</td>\n",
              "    </tr>\n",
              "  </tbody>\n",
              "</table>\n",
              "</div>\n",
              "      <button class=\"colab-df-convert\" onclick=\"convertToInteractive('df-dec9f07c-c93a-4521-bdd1-41436ba7ad74')\"\n",
              "              title=\"Convert this dataframe to an interactive table.\"\n",
              "              style=\"display:none;\">\n",
              "        \n",
              "  <svg xmlns=\"http://www.w3.org/2000/svg\" height=\"24px\"viewBox=\"0 0 24 24\"\n",
              "       width=\"24px\">\n",
              "    <path d=\"M0 0h24v24H0V0z\" fill=\"none\"/>\n",
              "    <path d=\"M18.56 5.44l.94 2.06.94-2.06 2.06-.94-2.06-.94-.94-2.06-.94 2.06-2.06.94zm-11 1L8.5 8.5l.94-2.06 2.06-.94-2.06-.94L8.5 2.5l-.94 2.06-2.06.94zm10 10l.94 2.06.94-2.06 2.06-.94-2.06-.94-.94-2.06-.94 2.06-2.06.94z\"/><path d=\"M17.41 7.96l-1.37-1.37c-.4-.4-.92-.59-1.43-.59-.52 0-1.04.2-1.43.59L10.3 9.45l-7.72 7.72c-.78.78-.78 2.05 0 2.83L4 21.41c.39.39.9.59 1.41.59.51 0 1.02-.2 1.41-.59l7.78-7.78 2.81-2.81c.8-.78.8-2.07 0-2.86zM5.41 20L4 18.59l7.72-7.72 1.47 1.35L5.41 20z\"/>\n",
              "  </svg>\n",
              "      </button>\n",
              "      \n",
              "  <style>\n",
              "    .colab-df-container {\n",
              "      display:flex;\n",
              "      flex-wrap:wrap;\n",
              "      gap: 12px;\n",
              "    }\n",
              "\n",
              "    .colab-df-convert {\n",
              "      background-color: #E8F0FE;\n",
              "      border: none;\n",
              "      border-radius: 50%;\n",
              "      cursor: pointer;\n",
              "      display: none;\n",
              "      fill: #1967D2;\n",
              "      height: 32px;\n",
              "      padding: 0 0 0 0;\n",
              "      width: 32px;\n",
              "    }\n",
              "\n",
              "    .colab-df-convert:hover {\n",
              "      background-color: #E2EBFA;\n",
              "      box-shadow: 0px 1px 2px rgba(60, 64, 67, 0.3), 0px 1px 3px 1px rgba(60, 64, 67, 0.15);\n",
              "      fill: #174EA6;\n",
              "    }\n",
              "\n",
              "    [theme=dark] .colab-df-convert {\n",
              "      background-color: #3B4455;\n",
              "      fill: #D2E3FC;\n",
              "    }\n",
              "\n",
              "    [theme=dark] .colab-df-convert:hover {\n",
              "      background-color: #434B5C;\n",
              "      box-shadow: 0px 1px 3px 1px rgba(0, 0, 0, 0.15);\n",
              "      filter: drop-shadow(0px 1px 2px rgba(0, 0, 0, 0.3));\n",
              "      fill: #FFFFFF;\n",
              "    }\n",
              "  </style>\n",
              "\n",
              "      <script>\n",
              "        const buttonEl =\n",
              "          document.querySelector('#df-dec9f07c-c93a-4521-bdd1-41436ba7ad74 button.colab-df-convert');\n",
              "        buttonEl.style.display =\n",
              "          google.colab.kernel.accessAllowed ? 'block' : 'none';\n",
              "\n",
              "        async function convertToInteractive(key) {\n",
              "          const element = document.querySelector('#df-dec9f07c-c93a-4521-bdd1-41436ba7ad74');\n",
              "          const dataTable =\n",
              "            await google.colab.kernel.invokeFunction('convertToInteractive',\n",
              "                                                     [key], {});\n",
              "          if (!dataTable) return;\n",
              "\n",
              "          const docLinkHtml = 'Like what you see? Visit the ' +\n",
              "            '<a target=\"_blank\" href=https://colab.research.google.com/notebooks/data_table.ipynb>data table notebook</a>'\n",
              "            + ' to learn more about interactive tables.';\n",
              "          element.innerHTML = '';\n",
              "          dataTable['output_type'] = 'display_data';\n",
              "          await google.colab.output.renderOutput(dataTable, element);\n",
              "          const docLink = document.createElement('div');\n",
              "          docLink.innerHTML = docLinkHtml;\n",
              "          element.appendChild(docLink);\n",
              "        }\n",
              "      </script>\n",
              "    </div>\n",
              "  </div>\n",
              "  "
            ]
          },
          "metadata": {},
          "execution_count": 42
        }
      ]
    },
    {
      "cell_type": "markdown",
      "source": [
        "##Encriptación con SHA1 "
      ],
      "metadata": {
        "id": "Y9uuzL32oK-t"
      }
    },
    {
      "cell_type": "code",
      "source": [
        "import hashlib\n",
        "language['Language']=language['Language'].astype(str)\n",
        "language['Language']=language['Language'].apply(lambda x: hashlib.sha256(x.encode()).hexdigest())\n",
        "language\n"
      ],
      "metadata": {
        "colab": {
          "base_uri": "https://localhost:8080/",
          "height": 802
        },
        "id": "B-DpPJrYFUhF",
        "outputId": "6e5bffad-dbdf-4ddd-938b-f93088a78544"
      },
      "execution_count": 40,
      "outputs": [
        {
          "output_type": "execute_result",
          "data": {
            "text/plain": [
              "                                             Language\n",
              "0   534c1f2446d98883a63cfb8079b3d14a9d4431c7d519f7...\n",
              "1   534c1f2446d98883a63cfb8079b3d14a9d4431c7d519f7...\n",
              "2   534c1f2446d98883a63cfb8079b3d14a9d4431c7d519f7...\n",
              "3   534c1f2446d98883a63cfb8079b3d14a9d4431c7d519f7...\n",
              "4   534c1f2446d98883a63cfb8079b3d14a9d4431c7d519f7...\n",
              "5   534c1f2446d98883a63cfb8079b3d14a9d4431c7d519f7...\n",
              "6   534c1f2446d98883a63cfb8079b3d14a9d4431c7d519f7...\n",
              "7   534c1f2446d98883a63cfb8079b3d14a9d4431c7d519f7...\n",
              "8   534c1f2446d98883a63cfb8079b3d14a9d4431c7d519f7...\n",
              "9   534c1f2446d98883a63cfb8079b3d14a9d4431c7d519f7...\n",
              "10  534c1f2446d98883a63cfb8079b3d14a9d4431c7d519f7...\n",
              "11  534c1f2446d98883a63cfb8079b3d14a9d4431c7d519f7...\n",
              "12  534c1f2446d98883a63cfb8079b3d14a9d4431c7d519f7...\n",
              "13  534c1f2446d98883a63cfb8079b3d14a9d4431c7d519f7...\n",
              "14  534c1f2446d98883a63cfb8079b3d14a9d4431c7d519f7...\n",
              "15  534c1f2446d98883a63cfb8079b3d14a9d4431c7d519f7...\n",
              "16  534c1f2446d98883a63cfb8079b3d14a9d4431c7d519f7...\n",
              "17  534c1f2446d98883a63cfb8079b3d14a9d4431c7d519f7...\n",
              "18  534c1f2446d98883a63cfb8079b3d14a9d4431c7d519f7...\n",
              "19  534c1f2446d98883a63cfb8079b3d14a9d4431c7d519f7...\n",
              "20  534c1f2446d98883a63cfb8079b3d14a9d4431c7d519f7...\n",
              "21  534c1f2446d98883a63cfb8079b3d14a9d4431c7d519f7...\n",
              "22  534c1f2446d98883a63cfb8079b3d14a9d4431c7d519f7...\n",
              "23  534c1f2446d98883a63cfb8079b3d14a9d4431c7d519f7..."
            ],
            "text/html": [
              "\n",
              "  <div id=\"df-f60a0c64-5623-4948-b140-020ab8fb096e\">\n",
              "    <div class=\"colab-df-container\">\n",
              "      <div>\n",
              "<style scoped>\n",
              "    .dataframe tbody tr th:only-of-type {\n",
              "        vertical-align: middle;\n",
              "    }\n",
              "\n",
              "    .dataframe tbody tr th {\n",
              "        vertical-align: top;\n",
              "    }\n",
              "\n",
              "    .dataframe thead th {\n",
              "        text-align: right;\n",
              "    }\n",
              "</style>\n",
              "<table border=\"1\" class=\"dataframe\">\n",
              "  <thead>\n",
              "    <tr style=\"text-align: right;\">\n",
              "      <th></th>\n",
              "      <th>Language</th>\n",
              "    </tr>\n",
              "  </thead>\n",
              "  <tbody>\n",
              "    <tr>\n",
              "      <th>0</th>\n",
              "      <td>534c1f2446d98883a63cfb8079b3d14a9d4431c7d519f7...</td>\n",
              "    </tr>\n",
              "    <tr>\n",
              "      <th>1</th>\n",
              "      <td>534c1f2446d98883a63cfb8079b3d14a9d4431c7d519f7...</td>\n",
              "    </tr>\n",
              "    <tr>\n",
              "      <th>2</th>\n",
              "      <td>534c1f2446d98883a63cfb8079b3d14a9d4431c7d519f7...</td>\n",
              "    </tr>\n",
              "    <tr>\n",
              "      <th>3</th>\n",
              "      <td>534c1f2446d98883a63cfb8079b3d14a9d4431c7d519f7...</td>\n",
              "    </tr>\n",
              "    <tr>\n",
              "      <th>4</th>\n",
              "      <td>534c1f2446d98883a63cfb8079b3d14a9d4431c7d519f7...</td>\n",
              "    </tr>\n",
              "    <tr>\n",
              "      <th>5</th>\n",
              "      <td>534c1f2446d98883a63cfb8079b3d14a9d4431c7d519f7...</td>\n",
              "    </tr>\n",
              "    <tr>\n",
              "      <th>6</th>\n",
              "      <td>534c1f2446d98883a63cfb8079b3d14a9d4431c7d519f7...</td>\n",
              "    </tr>\n",
              "    <tr>\n",
              "      <th>7</th>\n",
              "      <td>534c1f2446d98883a63cfb8079b3d14a9d4431c7d519f7...</td>\n",
              "    </tr>\n",
              "    <tr>\n",
              "      <th>8</th>\n",
              "      <td>534c1f2446d98883a63cfb8079b3d14a9d4431c7d519f7...</td>\n",
              "    </tr>\n",
              "    <tr>\n",
              "      <th>9</th>\n",
              "      <td>534c1f2446d98883a63cfb8079b3d14a9d4431c7d519f7...</td>\n",
              "    </tr>\n",
              "    <tr>\n",
              "      <th>10</th>\n",
              "      <td>534c1f2446d98883a63cfb8079b3d14a9d4431c7d519f7...</td>\n",
              "    </tr>\n",
              "    <tr>\n",
              "      <th>11</th>\n",
              "      <td>534c1f2446d98883a63cfb8079b3d14a9d4431c7d519f7...</td>\n",
              "    </tr>\n",
              "    <tr>\n",
              "      <th>12</th>\n",
              "      <td>534c1f2446d98883a63cfb8079b3d14a9d4431c7d519f7...</td>\n",
              "    </tr>\n",
              "    <tr>\n",
              "      <th>13</th>\n",
              "      <td>534c1f2446d98883a63cfb8079b3d14a9d4431c7d519f7...</td>\n",
              "    </tr>\n",
              "    <tr>\n",
              "      <th>14</th>\n",
              "      <td>534c1f2446d98883a63cfb8079b3d14a9d4431c7d519f7...</td>\n",
              "    </tr>\n",
              "    <tr>\n",
              "      <th>15</th>\n",
              "      <td>534c1f2446d98883a63cfb8079b3d14a9d4431c7d519f7...</td>\n",
              "    </tr>\n",
              "    <tr>\n",
              "      <th>16</th>\n",
              "      <td>534c1f2446d98883a63cfb8079b3d14a9d4431c7d519f7...</td>\n",
              "    </tr>\n",
              "    <tr>\n",
              "      <th>17</th>\n",
              "      <td>534c1f2446d98883a63cfb8079b3d14a9d4431c7d519f7...</td>\n",
              "    </tr>\n",
              "    <tr>\n",
              "      <th>18</th>\n",
              "      <td>534c1f2446d98883a63cfb8079b3d14a9d4431c7d519f7...</td>\n",
              "    </tr>\n",
              "    <tr>\n",
              "      <th>19</th>\n",
              "      <td>534c1f2446d98883a63cfb8079b3d14a9d4431c7d519f7...</td>\n",
              "    </tr>\n",
              "    <tr>\n",
              "      <th>20</th>\n",
              "      <td>534c1f2446d98883a63cfb8079b3d14a9d4431c7d519f7...</td>\n",
              "    </tr>\n",
              "    <tr>\n",
              "      <th>21</th>\n",
              "      <td>534c1f2446d98883a63cfb8079b3d14a9d4431c7d519f7...</td>\n",
              "    </tr>\n",
              "    <tr>\n",
              "      <th>22</th>\n",
              "      <td>534c1f2446d98883a63cfb8079b3d14a9d4431c7d519f7...</td>\n",
              "    </tr>\n",
              "    <tr>\n",
              "      <th>23</th>\n",
              "      <td>534c1f2446d98883a63cfb8079b3d14a9d4431c7d519f7...</td>\n",
              "    </tr>\n",
              "  </tbody>\n",
              "</table>\n",
              "</div>\n",
              "      <button class=\"colab-df-convert\" onclick=\"convertToInteractive('df-f60a0c64-5623-4948-b140-020ab8fb096e')\"\n",
              "              title=\"Convert this dataframe to an interactive table.\"\n",
              "              style=\"display:none;\">\n",
              "        \n",
              "  <svg xmlns=\"http://www.w3.org/2000/svg\" height=\"24px\"viewBox=\"0 0 24 24\"\n",
              "       width=\"24px\">\n",
              "    <path d=\"M0 0h24v24H0V0z\" fill=\"none\"/>\n",
              "    <path d=\"M18.56 5.44l.94 2.06.94-2.06 2.06-.94-2.06-.94-.94-2.06-.94 2.06-2.06.94zm-11 1L8.5 8.5l.94-2.06 2.06-.94-2.06-.94L8.5 2.5l-.94 2.06-2.06.94zm10 10l.94 2.06.94-2.06 2.06-.94-2.06-.94-.94-2.06-.94 2.06-2.06.94z\"/><path d=\"M17.41 7.96l-1.37-1.37c-.4-.4-.92-.59-1.43-.59-.52 0-1.04.2-1.43.59L10.3 9.45l-7.72 7.72c-.78.78-.78 2.05 0 2.83L4 21.41c.39.39.9.59 1.41.59.51 0 1.02-.2 1.41-.59l7.78-7.78 2.81-2.81c.8-.78.8-2.07 0-2.86zM5.41 20L4 18.59l7.72-7.72 1.47 1.35L5.41 20z\"/>\n",
              "  </svg>\n",
              "      </button>\n",
              "      \n",
              "  <style>\n",
              "    .colab-df-container {\n",
              "      display:flex;\n",
              "      flex-wrap:wrap;\n",
              "      gap: 12px;\n",
              "    }\n",
              "\n",
              "    .colab-df-convert {\n",
              "      background-color: #E8F0FE;\n",
              "      border: none;\n",
              "      border-radius: 50%;\n",
              "      cursor: pointer;\n",
              "      display: none;\n",
              "      fill: #1967D2;\n",
              "      height: 32px;\n",
              "      padding: 0 0 0 0;\n",
              "      width: 32px;\n",
              "    }\n",
              "\n",
              "    .colab-df-convert:hover {\n",
              "      background-color: #E2EBFA;\n",
              "      box-shadow: 0px 1px 2px rgba(60, 64, 67, 0.3), 0px 1px 3px 1px rgba(60, 64, 67, 0.15);\n",
              "      fill: #174EA6;\n",
              "    }\n",
              "\n",
              "    [theme=dark] .colab-df-convert {\n",
              "      background-color: #3B4455;\n",
              "      fill: #D2E3FC;\n",
              "    }\n",
              "\n",
              "    [theme=dark] .colab-df-convert:hover {\n",
              "      background-color: #434B5C;\n",
              "      box-shadow: 0px 1px 3px 1px rgba(0, 0, 0, 0.15);\n",
              "      filter: drop-shadow(0px 1px 2px rgba(0, 0, 0, 0.3));\n",
              "      fill: #FFFFFF;\n",
              "    }\n",
              "  </style>\n",
              "\n",
              "      <script>\n",
              "        const buttonEl =\n",
              "          document.querySelector('#df-f60a0c64-5623-4948-b140-020ab8fb096e button.colab-df-convert');\n",
              "        buttonEl.style.display =\n",
              "          google.colab.kernel.accessAllowed ? 'block' : 'none';\n",
              "\n",
              "        async function convertToInteractive(key) {\n",
              "          const element = document.querySelector('#df-f60a0c64-5623-4948-b140-020ab8fb096e');\n",
              "          const dataTable =\n",
              "            await google.colab.kernel.invokeFunction('convertToInteractive',\n",
              "                                                     [key], {});\n",
              "          if (!dataTable) return;\n",
              "\n",
              "          const docLinkHtml = 'Like what you see? Visit the ' +\n",
              "            '<a target=\"_blank\" href=https://colab.research.google.com/notebooks/data_table.ipynb>data table notebook</a>'\n",
              "            + ' to learn more about interactive tables.';\n",
              "          element.innerHTML = '';\n",
              "          dataTable['output_type'] = 'display_data';\n",
              "          await google.colab.output.renderOutput(dataTable, element);\n",
              "          const docLink = document.createElement('div');\n",
              "          docLink.innerHTML = docLinkHtml;\n",
              "          element.appendChild(docLink);\n",
              "        }\n",
              "      </script>\n",
              "    </div>\n",
              "  </div>\n",
              "  "
            ]
          },
          "metadata": {},
          "execution_count": 40
        }
      ]
    },
    {
      "cell_type": "code",
      "source": [
        "three_columns=pd.concat([region_name, city_name, language], ignore_index=True)\n",
        "three_columns=three_columns.set_index('Región')\n",
        "three_columns"
      ],
      "metadata": {
        "id": "C135AqAncFlz"
      },
      "execution_count": null,
      "outputs": []
    },
    {
      "cell_type": "code",
      "source": [
        "import time\n"
      ],
      "metadata": {
        "id": "CExR084ueUCt"
      },
      "execution_count": 51,
      "outputs": []
    },
    {
      "cell_type": "code",
      "source": [
        "four_columns=three_columns.assign(Time=0)\n",
        "four_columns\n"
      ],
      "metadata": {
        "colab": {
          "base_uri": "https://localhost:8080/",
          "height": 455
        },
        "id": "ZygY26_jNq8m",
        "outputId": "6cb07be7-9f89-4cdc-a9b1-b929e0a66cf6"
      },
      "execution_count": 102,
      "outputs": [
        {
          "output_type": "execute_result",
          "data": {
            "text/plain": [
              "         City Name Language  Time\n",
              "Región                           \n",
              "Europe         NaN      NaN     0\n",
              "Americas       NaN      NaN     0\n",
              "Americas       NaN      NaN     0\n",
              "Americas       NaN      NaN     0\n",
              "Asia           NaN      NaN     0\n",
              "...            ...      ...   ...\n",
              "NaN            NaN  Spanish     0\n",
              "NaN            NaN  Spanish     0\n",
              "NaN            NaN  Spanish     0\n",
              "NaN            NaN  Spanish     0\n",
              "NaN            NaN  Spanish     0\n",
              "\n",
              "[524 rows x 3 columns]"
            ],
            "text/html": [
              "\n",
              "  <div id=\"df-4b701ba6-ffae-4adf-b04a-2069d1f7c7c4\">\n",
              "    <div class=\"colab-df-container\">\n",
              "      <div>\n",
              "<style scoped>\n",
              "    .dataframe tbody tr th:only-of-type {\n",
              "        vertical-align: middle;\n",
              "    }\n",
              "\n",
              "    .dataframe tbody tr th {\n",
              "        vertical-align: top;\n",
              "    }\n",
              "\n",
              "    .dataframe thead th {\n",
              "        text-align: right;\n",
              "    }\n",
              "</style>\n",
              "<table border=\"1\" class=\"dataframe\">\n",
              "  <thead>\n",
              "    <tr style=\"text-align: right;\">\n",
              "      <th></th>\n",
              "      <th>City Name</th>\n",
              "      <th>Language</th>\n",
              "      <th>Time</th>\n",
              "    </tr>\n",
              "    <tr>\n",
              "      <th>Región</th>\n",
              "      <th></th>\n",
              "      <th></th>\n",
              "      <th></th>\n",
              "    </tr>\n",
              "  </thead>\n",
              "  <tbody>\n",
              "    <tr>\n",
              "      <th>Europe</th>\n",
              "      <td>NaN</td>\n",
              "      <td>NaN</td>\n",
              "      <td>0</td>\n",
              "    </tr>\n",
              "    <tr>\n",
              "      <th>Americas</th>\n",
              "      <td>NaN</td>\n",
              "      <td>NaN</td>\n",
              "      <td>0</td>\n",
              "    </tr>\n",
              "    <tr>\n",
              "      <th>Americas</th>\n",
              "      <td>NaN</td>\n",
              "      <td>NaN</td>\n",
              "      <td>0</td>\n",
              "    </tr>\n",
              "    <tr>\n",
              "      <th>Americas</th>\n",
              "      <td>NaN</td>\n",
              "      <td>NaN</td>\n",
              "      <td>0</td>\n",
              "    </tr>\n",
              "    <tr>\n",
              "      <th>Asia</th>\n",
              "      <td>NaN</td>\n",
              "      <td>NaN</td>\n",
              "      <td>0</td>\n",
              "    </tr>\n",
              "    <tr>\n",
              "      <th>...</th>\n",
              "      <td>...</td>\n",
              "      <td>...</td>\n",
              "      <td>...</td>\n",
              "    </tr>\n",
              "    <tr>\n",
              "      <th>NaN</th>\n",
              "      <td>NaN</td>\n",
              "      <td>Spanish</td>\n",
              "      <td>0</td>\n",
              "    </tr>\n",
              "    <tr>\n",
              "      <th>NaN</th>\n",
              "      <td>NaN</td>\n",
              "      <td>Spanish</td>\n",
              "      <td>0</td>\n",
              "    </tr>\n",
              "    <tr>\n",
              "      <th>NaN</th>\n",
              "      <td>NaN</td>\n",
              "      <td>Spanish</td>\n",
              "      <td>0</td>\n",
              "    </tr>\n",
              "    <tr>\n",
              "      <th>NaN</th>\n",
              "      <td>NaN</td>\n",
              "      <td>Spanish</td>\n",
              "      <td>0</td>\n",
              "    </tr>\n",
              "    <tr>\n",
              "      <th>NaN</th>\n",
              "      <td>NaN</td>\n",
              "      <td>Spanish</td>\n",
              "      <td>0</td>\n",
              "    </tr>\n",
              "  </tbody>\n",
              "</table>\n",
              "<p>524 rows × 3 columns</p>\n",
              "</div>\n",
              "      <button class=\"colab-df-convert\" onclick=\"convertToInteractive('df-4b701ba6-ffae-4adf-b04a-2069d1f7c7c4')\"\n",
              "              title=\"Convert this dataframe to an interactive table.\"\n",
              "              style=\"display:none;\">\n",
              "        \n",
              "  <svg xmlns=\"http://www.w3.org/2000/svg\" height=\"24px\"viewBox=\"0 0 24 24\"\n",
              "       width=\"24px\">\n",
              "    <path d=\"M0 0h24v24H0V0z\" fill=\"none\"/>\n",
              "    <path d=\"M18.56 5.44l.94 2.06.94-2.06 2.06-.94-2.06-.94-.94-2.06-.94 2.06-2.06.94zm-11 1L8.5 8.5l.94-2.06 2.06-.94-2.06-.94L8.5 2.5l-.94 2.06-2.06.94zm10 10l.94 2.06.94-2.06 2.06-.94-2.06-.94-.94-2.06-.94 2.06-2.06.94z\"/><path d=\"M17.41 7.96l-1.37-1.37c-.4-.4-.92-.59-1.43-.59-.52 0-1.04.2-1.43.59L10.3 9.45l-7.72 7.72c-.78.78-.78 2.05 0 2.83L4 21.41c.39.39.9.59 1.41.59.51 0 1.02-.2 1.41-.59l7.78-7.78 2.81-2.81c.8-.78.8-2.07 0-2.86zM5.41 20L4 18.59l7.72-7.72 1.47 1.35L5.41 20z\"/>\n",
              "  </svg>\n",
              "      </button>\n",
              "      \n",
              "  <style>\n",
              "    .colab-df-container {\n",
              "      display:flex;\n",
              "      flex-wrap:wrap;\n",
              "      gap: 12px;\n",
              "    }\n",
              "\n",
              "    .colab-df-convert {\n",
              "      background-color: #E8F0FE;\n",
              "      border: none;\n",
              "      border-radius: 50%;\n",
              "      cursor: pointer;\n",
              "      display: none;\n",
              "      fill: #1967D2;\n",
              "      height: 32px;\n",
              "      padding: 0 0 0 0;\n",
              "      width: 32px;\n",
              "    }\n",
              "\n",
              "    .colab-df-convert:hover {\n",
              "      background-color: #E2EBFA;\n",
              "      box-shadow: 0px 1px 2px rgba(60, 64, 67, 0.3), 0px 1px 3px 1px rgba(60, 64, 67, 0.15);\n",
              "      fill: #174EA6;\n",
              "    }\n",
              "\n",
              "    [theme=dark] .colab-df-convert {\n",
              "      background-color: #3B4455;\n",
              "      fill: #D2E3FC;\n",
              "    }\n",
              "\n",
              "    [theme=dark] .colab-df-convert:hover {\n",
              "      background-color: #434B5C;\n",
              "      box-shadow: 0px 1px 3px 1px rgba(0, 0, 0, 0.15);\n",
              "      filter: drop-shadow(0px 1px 2px rgba(0, 0, 0, 0.3));\n",
              "      fill: #FFFFFF;\n",
              "    }\n",
              "  </style>\n",
              "\n",
              "      <script>\n",
              "        const buttonEl =\n",
              "          document.querySelector('#df-4b701ba6-ffae-4adf-b04a-2069d1f7c7c4 button.colab-df-convert');\n",
              "        buttonEl.style.display =\n",
              "          google.colab.kernel.accessAllowed ? 'block' : 'none';\n",
              "\n",
              "        async function convertToInteractive(key) {\n",
              "          const element = document.querySelector('#df-4b701ba6-ffae-4adf-b04a-2069d1f7c7c4');\n",
              "          const dataTable =\n",
              "            await google.colab.kernel.invokeFunction('convertToInteractive',\n",
              "                                                     [key], {});\n",
              "          if (!dataTable) return;\n",
              "\n",
              "          const docLinkHtml = 'Like what you see? Visit the ' +\n",
              "            '<a target=\"_blank\" href=https://colab.research.google.com/notebooks/data_table.ipynb>data table notebook</a>'\n",
              "            + ' to learn more about interactive tables.';\n",
              "          element.innerHTML = '';\n",
              "          dataTable['output_type'] = 'display_data';\n",
              "          await google.colab.output.renderOutput(dataTable, element);\n",
              "          const docLink = document.createElement('div');\n",
              "          docLink.innerHTML = docLinkHtml;\n",
              "          element.appendChild(docLink);\n",
              "        }\n",
              "      </script>\n",
              "    </div>\n",
              "  </div>\n",
              "  "
            ]
          },
          "metadata": {},
          "execution_count": 102
        }
      ]
    },
    {
      "cell_type": "code",
      "source": [
        "def assign_time(final_time):\n",
        "       \n",
        "    for i in range(0, 250):\n",
        "        i=0\n",
        "        initial_time=time.process_time()\n",
        "        final_time=time.process_time()\n",
        "        total=final_time-initial_time\n",
        "        i += i\n",
        "        print(total)\n"
      ],
      "metadata": {
        "id": "ifqcG3xmdi-Q"
      },
      "execution_count": 111,
      "outputs": []
    },
    {
      "cell_type": "code",
      "source": [
        "[assign_time(x) for x in four_columns['Time']]\n",
        "        "
      ],
      "metadata": {
        "id": "Rx3OCBqgb6QT"
      },
      "execution_count": null,
      "outputs": []
    },
    {
      "cell_type": "markdown",
      "source": [
        "##DataFrame Final"
      ],
      "metadata": {
        "id": "MKOEYMecoFhg"
      }
    },
    {
      "cell_type": "code",
      "source": [
        "four_columns"
      ],
      "metadata": {
        "id": "lKLk7VF-byyN",
        "colab": {
          "base_uri": "https://localhost:8080/",
          "height": 455
        },
        "outputId": "ac16c094-1fc5-41e2-9a84-414128d5e750"
      },
      "execution_count": 110,
      "outputs": [
        {
          "output_type": "execute_result",
          "data": {
            "text/plain": [
              "         City Name Language  Time\n",
              "Región                           \n",
              "Europe         NaN      NaN     0\n",
              "Americas       NaN      NaN     0\n",
              "Americas       NaN      NaN     0\n",
              "Americas       NaN      NaN     0\n",
              "Asia           NaN      NaN     0\n",
              "...            ...      ...   ...\n",
              "NaN            NaN  Spanish     0\n",
              "NaN            NaN  Spanish     0\n",
              "NaN            NaN  Spanish     0\n",
              "NaN            NaN  Spanish     0\n",
              "NaN            NaN  Spanish     0\n",
              "\n",
              "[524 rows x 3 columns]"
            ],
            "text/html": [
              "\n",
              "  <div id=\"df-3fab785f-a012-486c-9b8d-45ca3800dbde\">\n",
              "    <div class=\"colab-df-container\">\n",
              "      <div>\n",
              "<style scoped>\n",
              "    .dataframe tbody tr th:only-of-type {\n",
              "        vertical-align: middle;\n",
              "    }\n",
              "\n",
              "    .dataframe tbody tr th {\n",
              "        vertical-align: top;\n",
              "    }\n",
              "\n",
              "    .dataframe thead th {\n",
              "        text-align: right;\n",
              "    }\n",
              "</style>\n",
              "<table border=\"1\" class=\"dataframe\">\n",
              "  <thead>\n",
              "    <tr style=\"text-align: right;\">\n",
              "      <th></th>\n",
              "      <th>City Name</th>\n",
              "      <th>Language</th>\n",
              "      <th>Time</th>\n",
              "    </tr>\n",
              "    <tr>\n",
              "      <th>Región</th>\n",
              "      <th></th>\n",
              "      <th></th>\n",
              "      <th></th>\n",
              "    </tr>\n",
              "  </thead>\n",
              "  <tbody>\n",
              "    <tr>\n",
              "      <th>Europe</th>\n",
              "      <td>NaN</td>\n",
              "      <td>NaN</td>\n",
              "      <td>0</td>\n",
              "    </tr>\n",
              "    <tr>\n",
              "      <th>Americas</th>\n",
              "      <td>NaN</td>\n",
              "      <td>NaN</td>\n",
              "      <td>0</td>\n",
              "    </tr>\n",
              "    <tr>\n",
              "      <th>Americas</th>\n",
              "      <td>NaN</td>\n",
              "      <td>NaN</td>\n",
              "      <td>0</td>\n",
              "    </tr>\n",
              "    <tr>\n",
              "      <th>Americas</th>\n",
              "      <td>NaN</td>\n",
              "      <td>NaN</td>\n",
              "      <td>0</td>\n",
              "    </tr>\n",
              "    <tr>\n",
              "      <th>Asia</th>\n",
              "      <td>NaN</td>\n",
              "      <td>NaN</td>\n",
              "      <td>0</td>\n",
              "    </tr>\n",
              "    <tr>\n",
              "      <th>...</th>\n",
              "      <td>...</td>\n",
              "      <td>...</td>\n",
              "      <td>...</td>\n",
              "    </tr>\n",
              "    <tr>\n",
              "      <th>NaN</th>\n",
              "      <td>NaN</td>\n",
              "      <td>Spanish</td>\n",
              "      <td>0</td>\n",
              "    </tr>\n",
              "    <tr>\n",
              "      <th>NaN</th>\n",
              "      <td>NaN</td>\n",
              "      <td>Spanish</td>\n",
              "      <td>0</td>\n",
              "    </tr>\n",
              "    <tr>\n",
              "      <th>NaN</th>\n",
              "      <td>NaN</td>\n",
              "      <td>Spanish</td>\n",
              "      <td>0</td>\n",
              "    </tr>\n",
              "    <tr>\n",
              "      <th>NaN</th>\n",
              "      <td>NaN</td>\n",
              "      <td>Spanish</td>\n",
              "      <td>0</td>\n",
              "    </tr>\n",
              "    <tr>\n",
              "      <th>NaN</th>\n",
              "      <td>NaN</td>\n",
              "      <td>Spanish</td>\n",
              "      <td>0</td>\n",
              "    </tr>\n",
              "  </tbody>\n",
              "</table>\n",
              "<p>524 rows × 3 columns</p>\n",
              "</div>\n",
              "      <button class=\"colab-df-convert\" onclick=\"convertToInteractive('df-3fab785f-a012-486c-9b8d-45ca3800dbde')\"\n",
              "              title=\"Convert this dataframe to an interactive table.\"\n",
              "              style=\"display:none;\">\n",
              "        \n",
              "  <svg xmlns=\"http://www.w3.org/2000/svg\" height=\"24px\"viewBox=\"0 0 24 24\"\n",
              "       width=\"24px\">\n",
              "    <path d=\"M0 0h24v24H0V0z\" fill=\"none\"/>\n",
              "    <path d=\"M18.56 5.44l.94 2.06.94-2.06 2.06-.94-2.06-.94-.94-2.06-.94 2.06-2.06.94zm-11 1L8.5 8.5l.94-2.06 2.06-.94-2.06-.94L8.5 2.5l-.94 2.06-2.06.94zm10 10l.94 2.06.94-2.06 2.06-.94-2.06-.94-.94-2.06-.94 2.06-2.06.94z\"/><path d=\"M17.41 7.96l-1.37-1.37c-.4-.4-.92-.59-1.43-.59-.52 0-1.04.2-1.43.59L10.3 9.45l-7.72 7.72c-.78.78-.78 2.05 0 2.83L4 21.41c.39.39.9.59 1.41.59.51 0 1.02-.2 1.41-.59l7.78-7.78 2.81-2.81c.8-.78.8-2.07 0-2.86zM5.41 20L4 18.59l7.72-7.72 1.47 1.35L5.41 20z\"/>\n",
              "  </svg>\n",
              "      </button>\n",
              "      \n",
              "  <style>\n",
              "    .colab-df-container {\n",
              "      display:flex;\n",
              "      flex-wrap:wrap;\n",
              "      gap: 12px;\n",
              "    }\n",
              "\n",
              "    .colab-df-convert {\n",
              "      background-color: #E8F0FE;\n",
              "      border: none;\n",
              "      border-radius: 50%;\n",
              "      cursor: pointer;\n",
              "      display: none;\n",
              "      fill: #1967D2;\n",
              "      height: 32px;\n",
              "      padding: 0 0 0 0;\n",
              "      width: 32px;\n",
              "    }\n",
              "\n",
              "    .colab-df-convert:hover {\n",
              "      background-color: #E2EBFA;\n",
              "      box-shadow: 0px 1px 2px rgba(60, 64, 67, 0.3), 0px 1px 3px 1px rgba(60, 64, 67, 0.15);\n",
              "      fill: #174EA6;\n",
              "    }\n",
              "\n",
              "    [theme=dark] .colab-df-convert {\n",
              "      background-color: #3B4455;\n",
              "      fill: #D2E3FC;\n",
              "    }\n",
              "\n",
              "    [theme=dark] .colab-df-convert:hover {\n",
              "      background-color: #434B5C;\n",
              "      box-shadow: 0px 1px 3px 1px rgba(0, 0, 0, 0.15);\n",
              "      filter: drop-shadow(0px 1px 2px rgba(0, 0, 0, 0.3));\n",
              "      fill: #FFFFFF;\n",
              "    }\n",
              "  </style>\n",
              "\n",
              "      <script>\n",
              "        const buttonEl =\n",
              "          document.querySelector('#df-3fab785f-a012-486c-9b8d-45ca3800dbde button.colab-df-convert');\n",
              "        buttonEl.style.display =\n",
              "          google.colab.kernel.accessAllowed ? 'block' : 'none';\n",
              "\n",
              "        async function convertToInteractive(key) {\n",
              "          const element = document.querySelector('#df-3fab785f-a012-486c-9b8d-45ca3800dbde');\n",
              "          const dataTable =\n",
              "            await google.colab.kernel.invokeFunction('convertToInteractive',\n",
              "                                                     [key], {});\n",
              "          if (!dataTable) return;\n",
              "\n",
              "          const docLinkHtml = 'Like what you see? Visit the ' +\n",
              "            '<a target=\"_blank\" href=https://colab.research.google.com/notebooks/data_table.ipynb>data table notebook</a>'\n",
              "            + ' to learn more about interactive tables.';\n",
              "          element.innerHTML = '';\n",
              "          dataTable['output_type'] = 'display_data';\n",
              "          await google.colab.output.renderOutput(dataTable, element);\n",
              "          const docLink = document.createElement('div');\n",
              "          docLink.innerHTML = docLinkHtml;\n",
              "          element.appendChild(docLink);\n",
              "        }\n",
              "      </script>\n",
              "    </div>\n",
              "  </div>\n",
              "  "
            ]
          },
          "metadata": {},
          "execution_count": 110
        }
      ]
    },
    {
      "cell_type": "markdown",
      "source": [
        "##Funciones de la librería pandas para cálculo de tiempo total, tiempo promedio, tiempo mínimo y máximo"
      ],
      "metadata": {
        "id": "05Fua-4QnwvJ"
      }
    },
    {
      "cell_type": "code",
      "source": [
        "four_columns['Time'].mean"
      ],
      "metadata": {
        "id": "_tFoRdcubvul",
        "colab": {
          "base_uri": "https://localhost:8080/"
        },
        "outputId": "30481a61-195c-4471-e834-e4878147e63c"
      },
      "execution_count": 112,
      "outputs": [
        {
          "output_type": "execute_result",
          "data": {
            "text/plain": [
              "<bound method NDFrame._add_numeric_operations.<locals>.mean of Región\n",
              "Europe      0\n",
              "Americas    0\n",
              "Americas    0\n",
              "Americas    0\n",
              "Asia        0\n",
              "           ..\n",
              "NaN         0\n",
              "NaN         0\n",
              "NaN         0\n",
              "NaN         0\n",
              "NaN         0\n",
              "Name: Time, Length: 524, dtype: int64>"
            ]
          },
          "metadata": {},
          "execution_count": 112
        }
      ]
    },
    {
      "cell_type": "code",
      "source": [
        "four_columns['Time'].min()"
      ],
      "metadata": {
        "id": "85ejuc1PbmO1",
        "colab": {
          "base_uri": "https://localhost:8080/"
        },
        "outputId": "862e36a1-7b87-4512-fdea-616b477ba694"
      },
      "execution_count": 113,
      "outputs": [
        {
          "output_type": "execute_result",
          "data": {
            "text/plain": [
              "0"
            ]
          },
          "metadata": {},
          "execution_count": 113
        }
      ]
    },
    {
      "cell_type": "code",
      "source": [
        "four_columns['Time'].max()"
      ],
      "metadata": {
        "id": "Bu6FhM94a2VC",
        "colab": {
          "base_uri": "https://localhost:8080/"
        },
        "outputId": "42065fb7-3709-4d80-c500-a206c45c0f15"
      },
      "execution_count": 114,
      "outputs": [
        {
          "output_type": "execute_result",
          "data": {
            "text/plain": [
              "0"
            ]
          },
          "metadata": {},
          "execution_count": 114
        }
      ]
    },
    {
      "cell_type": "markdown",
      "source": [
        "##Guardar DataFrame en SQLITE"
      ],
      "metadata": {
        "id": "dgyqEUrQnkQP"
      }
    },
    {
      "cell_type": "code",
      "source": [
        "import sqlite3\n",
        "database = \"../tech_test.sqlite\"\n",
        "conn = sqlite3.connect(database)"
      ],
      "metadata": {
        "id": "RyvUD42dauHL"
      },
      "execution_count": 119,
      "outputs": []
    },
    {
      "cell_type": "code",
      "source": [
        "four_columns.to_sql(name='Data', con=conn)\n",
        "conn.close()"
      ],
      "metadata": {
        "id": "Q_PIqQBMaleE",
        "colab": {
          "base_uri": "https://localhost:8080/"
        },
        "outputId": "f130b5f9-5da7-493d-e607-4a6963b1a5cb"
      },
      "execution_count": 120,
      "outputs": [
        {
          "output_type": "stream",
          "name": "stderr",
          "text": [
            "/usr/local/lib/python3.7/dist-packages/pandas/core/generic.py:2882: UserWarning: The spaces in these column names will not be changed. In pandas versions < 0.14, spaces were converted to underscores.\n",
            "  method=method,\n"
          ]
        }
      ]
    },
    {
      "cell_type": "markdown",
      "source": [
        "##Guardar DataFrame en formato JSON"
      ],
      "metadata": {
        "id": "MaqeC-jopQDW"
      }
    },
    {
      "cell_type": "code",
      "source": [
        "import json\n"
      ],
      "metadata": {
        "id": "FkCXCH-CagwT"
      },
      "execution_count": 126,
      "outputs": []
    },
    {
      "cell_type": "code",
      "source": [
        "data=four_columns.to_json(orient=\"split\")\n",
        "data"
      ],
      "metadata": {
        "id": "9e6PwRAvZ_ko",
        "colab": {
          "base_uri": "https://localhost:8080/",
          "height": 105
        },
        "outputId": "28c505a3-a6ff-4c19-be9a-cd336505331a"
      },
      "execution_count": 128,
      "outputs": [
        {
          "output_type": "execute_result",
          "data": {
            "text/plain": [
              "'{\"columns\":[\"City Name\",\"Language\",\"Time\"],\"index\":[\"Europe\",\"Americas\",\"Americas\",\"Americas\",\"Asia\",\"Africa\",\"Oceania\",\"Europe\",\"Asia\",\"Americas\",\"Asia\",\"Americas\",\"Americas\",\"Africa\",\"Europe\",\"Oceania\",\"Africa\",\"Americas\",\"Oceania\",\"Americas\",\"Oceania\",\"Africa\",\"Americas\",\"Africa\",\"Africa\",\"Asia\",\"Europe\",\"Asia\",\"Oceania\",\"Americas\",\"Europe\",\"Africa\",\"Americas\",\"Asia\",\"Europe\",\"Oceania\",\"Africa\",\"Oceania\",\"Americas\",\"Europe\",\"Europe\",\"Africa\",\"Americas\",\"Europe\",\"Asia\",\"Africa\",\"Asia\",\"Asia\",\"Americas\",\"Africa\",\"Africa\",\"Africa\",\"Europe\",\"Europe\",\"Asia\",\"Africa\",\"Oceania\",\"Africa\",\"Africa\",\"Africa\",\"Americas\",\"Americas\",\"Oceania\",\"Africa\",\"Asia\",\"Americas\",\"Asia\",\"Americas\",\"Americas\",\"Oceania\",\"Africa\",\"Europe\",\"Asia\",\"Asia\",\"Americas\",\"Americas\",\"Asia\",\"Oceania\",\"Americas\",\"Africa\",\"Americas\",\"Americas\",\"Europe\",\"Africa\",\"Asia\",\"Asia\",\"Africa\",\"Africa\",\"Europe\",\"Americas\",\"Asia\",\"Africa\",\"Europe\",\"Europe\",\"Europe\",\"Africa\",\"Americas\",\"Africa\",\"Americas\",\"Europe\",\"Oceania\",\"Asia\",\"Americas\",\"Oceania\",\"Asia\",\"Africa\",\"Americas\",\"Oceania\",\"Americas\",\"Europe\",\"Europe\",\"Americas\",\"Africa\",\"Africa\",\"Europe\",\"Africa\",\"Africa\",\"Oceania\",\"Asia\",\"Europe\",\"Europe\",\"Africa\",\"Asia\",\"Africa\",\"Asia\",\"Europe\",\"Asia\",\"Europe\",\"Africa\",\"Europe\",\"Asia\",\"Africa\",\"Europe\",\"Americas\",\"Europe\",\"Africa\",\"Asia\",\"Oceania\",\"Africa\",\"Africa\",\"Europe\",\"Asia\",\"Asia\",\"Africa\",\"Asia\",\"Africa\",\"Europe\",\"Asia\",\"Americas\",\"Americas\",\"Africa\",\"Europe\",\"Africa\",\"Europe\",\"Oceania\",\"Americas\",\"Americas\",\"Africa\",\"Asia\",\"Africa\",\"Americas\",\"Asia\",\"Europe\",\"Africa\",\"Africa\",\"Americas\",\"Oceania\",\"Oceania\",\"Americas\",\"Africa\",\"Europe\",\"Oceania\",\"Europe\",\"Europe\",\"Africa\",\"Americas\",\"Asia\",\"Asia\",\"Americas\",\"Americas\",\"Antarctic\",\"Asia\",\"Europe\",\"Americas\",\"Europe\",\"Asia\",\"Europe\",\"Africa\",\"Asia\",\"Asia\",\"Europe\",\"Africa\",\"Africa\",\"Oceania\",\"Asia\",\"Europe\",\"Americas\",\"Asia\",\"Africa\",\"Antarctic\",\"Antarctic\",\"Americas\",\"Asia\",\"Europe\",\"Europe\",\"Asia\",\"Americas\",\"Americas\",\"Americas\",\"Oceania\",\"Asia\",\"Europe\",\"Europe\",\"Africa\",\"Oceania\",\"Europe\",\"Asia\",\"Antarctic\",\"Asia\",\"Europe\",\"Asia\",\"Americas\",\"Americas\",\"Asia\",\"Africa\",\"Americas\",\"Europe\",\"Europe\",\"Asia\",\"Africa\",\"Africa\",\"Oceania\",\"Americas\",\"Africa\",\"Antarctic\",\"Asia\",\"Americas\",\"Asia\",\"Oceania\",\"Europe\",\"Oceania\",\"Oceania\",\"Africa\",\"Americas\",\"Europe\",\"Europe\",\"Africa\",\"Americas\",\"Europe\",\"Americas\",null,null,null,null,null,null,null,null,null,null,null,null,null,null,null,null,null,null,null,null,null,null,null,null,null,null,null,null,null,null,null,null,null,null,null,null,null,null,null,null,null,null,null,null,null,null,null,null,null,null,null,null,null,null,null,null,null,null,null,null,null,null,null,null,null,null,null,null,null,null,null,null,null,null,null,null,null,null,null,null,null,null,null,null,null,null,null,null,null,null,null,null,null,null,null,null,null,null,null,null,null,null,null,null,null,null,null,null,null,null,null,null,null,null,null,null,null,null,null,null,null,null,null,null,null,null,null,null,null,null,null,null,null,null,null,null,null,null,null,null,null,null,null,null,null,null,null,null,null,null,null,null,null,null,null,null,null,null,null,null,null,null,null,null,null,null,null,null,null,null,null,null,null,null,null,null,null,null,null,null,null,null,null,null,null,null,null,null,null,null,null,null,null,null,null,null,null,null,null,null,null,null,null,null,null,null,null,null,null,null,null,null,null,null,null,null,null,null,null,null,null,null,null,null,null,null,null,null,null,null,null,null,null,null,null,null,null,null,null,null,null,null,null,null,null,null,null,null,null,null,null,null,null,null,null,null,null,null,null,null,null,null,null,null,null,null,null,null,null,null,null,null,null,null],\"data\":[[null,null,0],[null,null,0],[null,null,0],[null,null,0],[null,null,0],[null,null,0],[null,null,0],[null,null,0],[null,null,0],[null,null,0],[null,null,0],[null,null,0],[null,null,0],[null,null,0],[null,null,0],[null,null,0],[null,null,0],[null,null,0],[null,null,0],[null,null,0],[null,null,0],[null,null,0],[null,null,0],[null,null,0],[null,null,0],[null,null,0],[null,null,0],[null,null,0],[null,null,0],[null,null,0],[null,null,0],[null,null,0],[null,null,0],[null,null,0],[null,null,0],[null,null,0],[null,null,0],[null,null,0],[null,null,0],[null,null,0],[null,null,0],[null,null,0],[null,null,0],[null,null,0],[null,null,0],[null,null,0],[null,null,0],[null,null,0],[null,null,0],[null,null,0],[null,null,0],[null,null,0],[null,null,0],[null,null,0],[null,null,0],[null,null,0],[null,null,0],[null,null,0],[null,null,0],[null,null,0],[null,null,0],[null,null,0],[null,null,0],[null,null,0],[null,null,0],[null,null,0],[null,null,0],[null,null,0],[null,null,0],[null,null,0],[null,null,0],[null,null,0],[null,null,0],[null,null,0],[null,null,0],[null,null,0],[null,null,0],[null,null,0],[null,null,0],[null,null,0],[null,null,0],[null,null,0],[null,null,0],[null,null,0],[null,null,0],[null,null,0],[null,null,0],[null,null,0],[null,null,0],[null,null,0],[null,null,0],[null,null,0],[null,null,0],[null,null,0],[null,null,0],[null,null,0],[null,null,0],[null,null,0],[null,null,0],[null,null,0],[null,null,0],[null,null,0],[null,null,0],[null,null,0],[null,null,0],[null,null,0],[null,null,0],[null,null,0],[null,null,0],[null,null,0],[null,null,0],[null,null,0],[null,null,0],[null,null,0],[null,null,0],[null,null,0],[null,null,0],[null,null,0],[null,null,0],[null,null,0],[null,null,0],[null,null,0],[null,null,0],[null,null,0],[null,null,0],[null,null,0],[null,null,0],[null,null,0],[null,null,0],[null,null,0],[null,null,0],[null,null,0],[null,null,0],[null,null,0],[null,null,0],[null,null,0],[null,null,0],[null,null,0],[null,null,0],[null,null,0],[null,null,0],[null,null,0],[null,null,0],[null,null,0],[null,null,0],[null,null,0],[null,null,0],[null,null,0],[null,null,0],[null,null,0],[null,null,0],[null,null,0],[null,null,0],[null,null,0],[null,null,0],[null,null,0],[null,null,0],[null,null,0],[null,null,0],[null,null,0],[null,null,0],[null,null,0],[null,null,0],[null,null,0],[null,null,0],[null,null,0],[null,null,0],[null,null,0],[null,null,0],[null,null,0],[null,null,0],[null,null,0],[null,null,0],[null,null,0],[null,null,0],[null,null,0],[null,null,0],[null,null,0],[null,null,0],[null,null,0],[null,null,0],[null,null,0],[null,null,0],[null,null,0],[null,null,0],[null,null,0],[null,null,0],[null,null,0],[null,null,0],[null,null,0],[null,null,0],[null,null,0],[null,null,0],[null,null,0],[null,null,0],[null,null,0],[null,null,0],[null,null,0],[null,null,0],[null,null,0],[null,null,0],[null,null,0],[null,null,0],[null,null,0],[null,null,0],[null,null,0],[null,null,0],[null,null,0],[null,null,0],[null,null,0],[null,null,0],[null,null,0],[null,null,0],[null,null,0],[null,null,0],[null,null,0],[null,null,0],[null,null,0],[null,null,0],[null,null,0],[null,null,0],[null,null,0],[null,null,0],[null,null,0],[null,null,0],[null,null,0],[null,null,0],[null,null,0],[null,null,0],[null,null,0],[null,null,0],[null,null,0],[null,null,0],[null,null,0],[null,null,0],[null,null,0],[null,null,0],[null,null,0],[null,null,0],[null,null,0],[null,null,0],[null,null,0],[null,null,0],[null,null,0],[null,null,0],[null,null,0],[null,null,0],[null,null,0],[null,null,0],[null,null,0],[\"Afghanistan\",null,0],[\"\\\\u00c5land Islands\",null,0],[\"Albania\",null,0],[\"Algeria\",null,0],[\"American Samoa\",null,0],[\"Andorra\",null,0],[\"Angola\",null,0],[\"Anguilla\",null,0],[\"Antarctica\",null,0],[\"Antigua and Barbuda\",null,0],[\"Argentina\",null,0],[\"Armenia\",null,0],[\"Aruba\",null,0],[\"Australia\",null,0],[\"Austria\",null,0],[\"Azerbaijan\",null,0],[\"Bahamas\",null,0],[\"Bahrain\",null,0],[\"Bangladesh\",null,0],[\"Barbados\",null,0],[\"Belarus\",null,0],[\"Belgium\",null,0],[\"Belize\",null,0],[\"Benin\",null,0],[\"Bermuda\",null,0],[\"Bhutan\",null,0],[\"Bolivia (Plurinational State of)\",null,0],[\"Bonaire, Sint Eustatius and Saba\",null,0],[\"Bosnia and Herzegovina\",null,0],[\"Botswana\",null,0],[\"Bouvet Island\",null,0],[\"Brazil\",null,0],[\"British Indian Ocean Territory\",null,0],[\"United States Minor Outlying Islands\",null,0],[\"Virgin Islands (British)\",null,0],[\"Virgin Islands (U.S.)\",null,0],[\"Brunei Darussalam\",null,0],[\"Bulgaria\",null,0],[\"Burkina Faso\",null,0],[\"Burundi\",null,0],[\"Cambodia\",null,0],[\"Cameroon\",null,0],[\"Canada\",null,0],[\"Cabo Verde\",null,0],[\"Cayman Islands\",null,0],[\"Central African Republic\",null,0],[\"Chad\",null,0],[\"Chile\",null,0],[\"China\",null,0],[\"Christmas Island\",null,0],[\"Cocos (Keeling) Islands\",null,0],[\"Colombia\",null,0],[\"Comoros\",null,0],[\"Congo\",null,0],[\"Congo (Democratic Republic of the)\",null,0],[\"Cook Islands\",null,0],[\"Costa Rica\",null,0],[\"Croatia\",null,0],[\"Cuba\",null,0],[\"Cura\\\\u00e7ao\",null,0],[\"Cyprus\",null,0],[\"Czech Republic\",null,0],[\"Denmark\",null,0],[\"Djibouti\",null,0],[\"Dominica\",null,0],[\"Dominican Republic\",null,0],[\"Ecuador\",null,0],[\"Egypt\",null,0],[\"El Salvador\",null,0],[\"Equatorial Guinea\",null,0],[\"Eritrea\",null,0],[\"Estonia\",null,0],[\"Ethiopia\",null,0],[\"Falkland Islands (Malvinas)\",null,0],[\"Faroe Islands\",null,0],[\"Fiji\",null,0],[\"Finland\",null,0],[\"France\",null,0],[\"French Guiana\",null,0],[\"French Polynesia\",null,0],[\"French Southern Territories\",null,0],[\"Gabon\",null,0],[\"Gambia\",null,0],[\"Georgia\",null,0],[\"Germany\",null,0],[\"Ghana\",null,0],[\"Gibraltar\",null,0],[\"Greece\",null,0],[\"Greenland\",null,0],[\"Grenada\",null,0],[\"Guadeloupe\",null,0],[\"Guam\",null,0],[\"Guatemala\",null,0],[\"Guernsey\",null,0],[\"Guinea\",null,0],[\"Guinea-Bissau\",null,0],[\"Guyana\",null,0],[\"Haiti\",null,0],[\"Heard Island and McDonald Islands\",null,0],[\"Vatican City\",null,0],[\"Honduras\",null,0],[\"Hungary\",null,0],[\"Hong Kong\",null,0],[\"Iceland\",null,0],[\"India\",null,0],[\"Indonesia\",null,0],[\"Ivory Coast\",null,0],[\"Iran (Islamic Republic of)\",null,0],[\"Iraq\",null,0],[\"Ireland\",null,0],[\"Isle of Man\",null,0],[\"Israel\",null,0],[\"Italy\",null,0],[\"Jamaica\",null,0],[\"Japan\",null,0],[\"Jersey\",null,0],[\"Jordan\",null,0],[\"Kazakhstan\",null,0],[\"Kenya\",null,0],[\"Kiribati\",null,0],[\"Kuwait\",null,0],[\"Kyrgyzstan\",null,0],[\"Lao People\\'s Democratic Republic\",null,0],[\"Latvia\",null,0],[\"Lebanon\",null,0],[\"Lesotho\",null,0],[\"Liberia\",null,0],[\"Libya\",null,0],[\"Liechtenstein\",null,0],[\"Lithuania\",null,0],[\"Luxembourg\",null,0],[\"Macao\",null,0],[\"North Macedonia\",null,0],[\"Madagascar\",null,0],[\"Malawi\",null,0],[\"Malaysia\",null,0],[\"Maldives\",null,0],[\"Mali\",null,0],[\"Malta\",null,0],[\"Marshall Islands\",null,0],[\"Martinique\",null,0],[\"Mauritania\",null,0],[\"Mauritius\",null,0],[\"Mayotte\",null,0],[\"Mexico\",null,0],[\"Micronesia (Federated States of)\",null,0],[\"Moldova (Republic of)\",null,0],[\"Monaco\",null,0],[\"Mongolia\",null,0],[\"Montenegro\",null,0],[\"Montserrat\",null,0],[\"Morocco\",null,0],[\"Mozambique\",null,0],[\"Myanmar\",null,0],[\"Namibia\",null,0],[\"Nauru\",null,0],[\"Nepal\",null,0],[\"Netherlands\",null,0],[\"New Caledonia\",null,0],[\"New Zealand\",null,0],[\"Nicaragua\",null,0],[\"Niger\",null,0],[\"Nigeria\",null,0],[\"Niue\",null,0],[\"Norfolk Island\",null,0],[\"Korea (Democratic People\\'s Republic of)\",null,0],[\"Northern Mariana Islands\",null,0],[\"Norway\",null,0],[\"Oman\",null,0],[\"Pakistan\",null,0],[\"Palau\",null,0],[\"Palestine, State of\",null,0],[\"Panama\",null,0],[\"Papua New Guinea\",null,0],[\"Paraguay\",null,0],[\"Peru\",null,0],[\"Philippines\",null,0],[\"Pitcairn\",null,0],[\"Poland\",null,0],[\"Portugal\",null,0],[\"Puerto Rico\",null,0],[\"Qatar\",null,0],[\"Republic of Kosovo\",null,0],[\"R\\\\u00e9union\",null,0],[\"Romania\",null,0],[\"Russian Federation\",null,0],[\"Rwanda\",null,0],[\"Saint Barth\\\\u00e9lemy\",null,0],[\"Saint Helena, Ascension and Tristan da Cunha\",null,0],[\"Saint Kitts and Nevis\",null,0],[\"Saint Lucia\",null,0],[\"Saint Martin (French part)\",null,0],[\"Saint Pierre and Miquelon\",null,0],[\"Saint Vincent and the Grenadines\",null,0],[\"Samoa\",null,0],[\"San Marino\",null,0],[\"Sao Tome and Principe\",null,0],[\"Saudi Arabia\",null,0],[\"Senegal\",null,0],[\"Serbia\",null,0],[\"Seychelles\",null,0],[\"Sierra Leone\",null,0],[\"Singapore\",null,0],[\"Sint Maarten (Dutch part)\",null,0],[\"Slovakia\",null,0],[\"Slovenia\",null,0],[\"Solomon Islands\",null,0],[\"Somalia\",null,0],[\"South Africa\",null,0],[\"South Georgia and the South Sandwich Islands\",null,0],[\"Korea (Republic of)\",null,0],[\"Spain\",null,0],[\"Sri Lanka\",null,0],[\"Sudan\",null,0],[\"South Sudan\",null,0],[\"Suriname\",null,0],[\"Svalbard and Jan Mayen\",null,0],[\"Swaziland\",null,0],[\"Sweden\",null,0],[\"Switzerland\",null,0],[\"Syrian Arab Republic\",null,0],[\"Taiwan\",null,0],[\"Tajikistan\",null,0],[\"Tanzania, United Republic of\",null,0],[\"Thailand\",null,0],[\"Timor-Leste\",null,0],[\"Togo\",null,0],[\"Tokelau\",null,0],[\"Tonga\",null,0],[\"Trinidad and Tobago\",null,0],[\"Tunisia\",null,0],[\"Turkey\",null,0],[\"Turkmenistan\",null,0],[\"Turks and Caicos Islands\",null,0],[\"Tuvalu\",null,0],[\"Uganda\",null,0],[\"Ukraine\",null,0],[\"United Arab Emirates\",null,0],[\"United Kingdom of Great Britain and Northern Ireland\",null,0],[\"United States of America\",null,0],[\"Uruguay\",null,0],[\"Uzbekistan\",null,0],[\"Vanuatu\",null,0],[\"Venezuela (Bolivarian Republic of)\",null,0],[\"Vietnam\",null,0],[\"Wallis and Futuna\",null,0],[\"Western Sahara\",null,0],[\"Yemen\",null,0],[\"Zambia\",null,0],[\"Zimbabwe\",null,0],[null,\"Spanish\",0],[null,\"Spanish\",0],[null,\"Spanish\",0],[null,\"Spanish\",0],[null,\"Spanish\",0],[null,\"Spanish\",0],[null,\"Spanish\",0],[null,\"Spanish\",0],[null,\"Spanish\",0],[null,\"Spanish\",0],[null,\"Spanish\",0],[null,\"Spanish\",0],[null,\"Spanish\",0],[null,\"Spanish\",0],[null,\"Spanish\",0],[null,\"Spanish\",0],[null,\"Spanish\",0],[null,\"Spanish\",0],[null,\"Spanish\",0],[null,\"Spanish\",0],[null,\"Spanish\",0],[null,\"Spanish\",0],[null,\"Spanish\",0],[null,\"Spanish\",0]]}'"
            ],
            "application/vnd.google.colaboratory.intrinsic+json": {
              "type": "string"
            }
          },
          "metadata": {},
          "execution_count": 128
        }
      ]
    },
    {
      "cell_type": "code",
      "source": [],
      "metadata": {
        "id": "kbM3rGwLZ56q"
      },
      "execution_count": null,
      "outputs": []
    },
    {
      "cell_type": "code",
      "source": [],
      "metadata": {
        "id": "NIKGXjf0Z4vK"
      },
      "execution_count": null,
      "outputs": []
    },
    {
      "cell_type": "code",
      "source": [],
      "metadata": {
        "id": "X8bkobhQZ2Zy"
      },
      "execution_count": null,
      "outputs": []
    },
    {
      "cell_type": "code",
      "source": [],
      "metadata": {
        "id": "BCGgoTWlZxPC"
      },
      "execution_count": null,
      "outputs": []
    },
    {
      "cell_type": "code",
      "source": [],
      "metadata": {
        "id": "Q0TxPSxmZnr7"
      },
      "execution_count": null,
      "outputs": []
    },
    {
      "cell_type": "code",
      "source": [],
      "metadata": {
        "id": "RJy6eRuNZjNk"
      },
      "execution_count": null,
      "outputs": []
    },
    {
      "cell_type": "code",
      "source": [],
      "metadata": {
        "id": "j_WxY0BRZgsG"
      },
      "execution_count": null,
      "outputs": []
    },
    {
      "cell_type": "code",
      "source": [],
      "metadata": {
        "id": "vFsD74RCZdgO"
      },
      "execution_count": null,
      "outputs": []
    },
    {
      "cell_type": "code",
      "source": [],
      "metadata": {
        "id": "qxobLiw4Za7W"
      },
      "execution_count": null,
      "outputs": []
    },
    {
      "cell_type": "code",
      "source": [],
      "metadata": {
        "id": "IOgUgHrLZQT4"
      },
      "execution_count": null,
      "outputs": []
    },
    {
      "cell_type": "code",
      "source": [],
      "metadata": {
        "id": "AUHGEUVgZMnY"
      },
      "execution_count": null,
      "outputs": []
    },
    {
      "cell_type": "code",
      "source": [],
      "metadata": {
        "id": "8NjK75c0ZKIo"
      },
      "execution_count": null,
      "outputs": []
    },
    {
      "cell_type": "code",
      "source": [],
      "metadata": {
        "id": "rrYiAvvUWCNe"
      },
      "execution_count": null,
      "outputs": []
    },
    {
      "cell_type": "code",
      "source": [],
      "metadata": {
        "id": "7tRa234aV26e"
      },
      "execution_count": null,
      "outputs": []
    },
    {
      "cell_type": "code",
      "source": [],
      "metadata": {
        "id": "OVTur4I2V0ex"
      },
      "execution_count": null,
      "outputs": []
    },
    {
      "cell_type": "code",
      "source": [],
      "metadata": {
        "id": "OGXwkDcQVy2J"
      },
      "execution_count": null,
      "outputs": []
    }
  ]
}